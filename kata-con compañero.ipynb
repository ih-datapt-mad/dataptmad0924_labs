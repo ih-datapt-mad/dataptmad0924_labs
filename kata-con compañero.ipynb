{
 "cells": [
  {
   "cell_type": "code",
   "execution_count": 18,
   "id": "5d563e32-8289-4e7b-a57e-24d532b23b92",
   "metadata": {},
   "outputs": [],
   "source": [
    "\n",
    "class User(object):\n",
    "    def __init__(self, name, balance, checking_account):\n",
    "        self.name = name\n",
    "        self.balance = balance\n",
    "        self.checking_account = checking_account\n",
    "withdraw= User(name='Jeff',\n",
    "               balance=70,\n",
    "               checking_account=True)\n",
    "     \n",
    "    "
   ]
  },
  {
   "cell_type": "code",
   "execution_count": 22,
   "id": "7f7b8bb9-895c-4556-ad6a-7d027d1eed88",
   "metadata": {},
   "outputs": [
    {
     "ename": "NameError",
     "evalue": "name 'amount' is not defined",
     "output_type": "error",
     "traceback": [
      "\u001b[1;31m---------------------------------------------------------------------------\u001b[0m",
      "\u001b[1;31mNameError\u001b[0m                                 Traceback (most recent call last)",
      "Cell \u001b[1;32mIn[22], line 7\u001b[0m\n\u001b[0;32m      2\u001b[0m   amount \u001b[38;5;241m=\u001b[39m get_user_input(\u001b[38;5;124m\"\u001b[39m\u001b[38;5;124mwithdraw\u001b[39m\u001b[38;5;124m\"\u001b[39m)\n\u001b[0;32m      3\u001b[0m   \u001b[38;5;28;01mreturn\u001b[39;00m withdraw \u001b[38;5;241m-\u001b[39m amount\n\u001b[1;32m----> 7\u001b[0m \u001b[38;5;28mprint\u001b[39m(\u001b[38;5;124m\"\u001b[39m\u001b[38;5;124mYour Balance is \u001b[39m\u001b[38;5;132;01m{}\u001b[39;00m\u001b[38;5;124m AED\u001b[39m\u001b[38;5;124m\"\u001b[39m\u001b[38;5;241m.\u001b[39mformat(amount))\n",
      "\u001b[1;31mNameError\u001b[0m: name 'amount' is not defined"
     ]
    }
   ],
   "source": [
    "\n",
    "def withdraw():\n",
    "  amount = get_user_input(\"withdraw\")\n",
    "  return withdraw - amount\n",
    "\n",
    "\n",
    "\n",
    "print(\"Your Balance is {} AED\".format(amount))\n"
   ]
  }
 ],
 "metadata": {
  "kernelspec": {
   "display_name": "Python 3 (ipykernel)",
   "language": "python",
   "name": "python3"
  },
  "language_info": {
   "codemirror_mode": {
    "name": "ipython",
    "version": 3
   },
   "file_extension": ".py",
   "mimetype": "text/x-python",
   "name": "python",
   "nbconvert_exporter": "python",
   "pygments_lexer": "ipython3",
   "version": "3.12.5"
  }
 },
 "nbformat": 4,
 "nbformat_minor": 5
}
