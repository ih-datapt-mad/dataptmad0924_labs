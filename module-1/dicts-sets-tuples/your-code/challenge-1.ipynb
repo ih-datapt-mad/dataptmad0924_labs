{
 "cells": [
  {
   "cell_type": "markdown",
   "metadata": {},
   "source": [
    "## Challenge 1: Tuples\n",
    "\n",
    "#### Do you know you can create tuples with only one element?\n",
    "\n",
    "**In the cell below, define a variable `tup` with a single element `\"I\"`.**\n",
    "\n",
    "*Hint: you need to add a comma (`,`) after the single element.*"
   ]
  },
  {
   "cell_type": "code",
   "execution_count": 11,
   "metadata": {},
   "outputs": [],
   "source": [
    "tup=(\"I\",)\n",
    "\n",
    "#1 definimos tup abrimos parentesis usamos comillas para escribir el elemento y separamos con una coma asi sea un solo elemento. "
   ]
  },
  {
   "cell_type": "markdown",
   "metadata": {},
   "source": [
    "#### Print the type of `tup`. \n",
    "\n",
    "Make sure its type is correct (i.e. *tuple* instead of *str*)."
   ]
  },
  {
   "cell_type": "code",
   "execution_count": 12,
   "metadata": {},
   "outputs": [
    {
     "name": "stdout",
     "output_type": "stream",
     "text": [
      "<class 'tuple'>\n"
     ]
    }
   ],
   "source": [
    "print(type(tup))\n",
    "\n",
    "#1 usamos la funcion print para pedir que imprima el resultado en pantalla.\n",
    "#2 usamos la funcion type para saber la clase de dato que es. \n",
    "#3 especificamos que es a la variiable tup."
   ]
  },
  {
   "cell_type": "markdown",
   "metadata": {},
   "source": [
    "#### Now try to append the following elements to `tup`. \n",
    "\n",
    "Are you able to do it? Explain.\n",
    "\n",
    "```\n",
    "\"r\", \"o\", \"n\", \"h\", \"a\", \"c\", \"k',\n",
    "```"
   ]
  },
  {
   "cell_type": "code",
   "execution_count": 13,
   "metadata": {},
   "outputs": [
    {
     "name": "stdout",
     "output_type": "stream",
     "text": [
      "('I', 'r', 'o', 'n', 'h', 'a', 'c', 'k')\n"
     ]
    }
   ],
   "source": [
    "tup=(\"I\",)\n",
    "new_element_tup=(\"r\",\"o\",\"n\",\"h\",\"a\",\"c\",\"k\",)\n",
    "final_tup= tup + new_element_tup\n",
    "print(final_tup)\n",
    "# recordamos que las tuplas son inmutables la unica manera seria creando una nueva tupla \n",
    "#1 hacemos como el primer paso.\n",
    "#2 definimos una nueva tupla con los elementos que queremos añadir.\n",
    "#3 definimos la tupla final y sumamos la tupla original con la tupla que queremos añadir.\n",
    "#4 pendimos con la funcion print que nos muestre el resultado de la nueva tupla (final_tup)."
   ]
  },
  {
   "cell_type": "markdown",
   "metadata": {},
   "source": [
    "#### How about re-assign a new value to an existing tuple?\n",
    "\n",
    "Re-assign the following elements to `tup`. Are you able to do it? Explain.\n",
    "\n",
    "```\n",
    "\"I\", \"r\", \"o\", \"n\", \"h\", \"a\", \"c\", \"k\"\n",
    "```"
   ]
  },
  {
   "cell_type": "code",
   "execution_count": 14,
   "metadata": {},
   "outputs": [
    {
     "name": "stdout",
     "output_type": "stream",
     "text": [
      "('I', 'r', 'o', 'n', 'h', 'a', 'c', 'k')\n"
     ]
    }
   ],
   "source": [
    "tup=(\"I\",)\n",
    "tup = tup + (\"r\", \"o\", \"n\", \"h\", \"a\", \"c\", \"k\")\n",
    "print(tup)\n",
    "\n",
    "#1 renombramos tup para que vuelva a tomar valor de I\n",
    "#2 renombramos tup para que contenga el tup + los elementos que queremos añadir (solo funciona al sobre escribir tup ya que son inmmutables)"
   ]
  },
  {
   "cell_type": "markdown",
   "metadata": {},
   "source": [
    "#### Split `tup` into `tup1` and `tup2` with 4 elements in each. \n",
    "\n",
    "`tup1` should be `(\"I\", \"r\", \"o\", \"n\")` and `tup2` should be `(\"h\", \"a\", \"c\", \"k\")`.\n",
    "\n",
    "*Hint: use positive index numbers for `tup1` assignment and use negative index numbers for `tup2` assignment. Positive index numbers count from the beginning whereas negative index numbers count from the end of the sequence.*\n",
    "\n",
    "Also print `tup1` and `tup2`."
   ]
  },
  {
   "cell_type": "code",
   "execution_count": 15,
   "metadata": {},
   "outputs": [
    {
     "name": "stdout",
     "output_type": "stream",
     "text": [
      "('I', 'r', 'o', 'n')\n",
      "('h', 'a', 'c', 'k')\n"
     ]
    }
   ],
   "source": [
    "tup=(\"I\", \"r\", \"o\", \"n\", \"h\", \"a\", \"c\", \"k\")\n",
    "tup1=tup[0:4]\n",
    "tup2=tup[-4:]\n",
    "print(tup1)\n",
    "print(tup2)\n",
    "#1 primero definimos tup como la tupla original \n",
    "#2 definimos la tup1 y le indicamos que tome de la posiciones del 0 al 4 con el indice.\n",
    "#3 definimos tup2 y pedimos por el indice que tome la posicion -4 que eso haria que empezara el indice desde el final hata la posicion 4\n",
    "#4 pendimos con el funcion print que nos imprima tup1 y tup2.\n"
   ]
  },
  {
   "cell_type": "markdown",
   "metadata": {},
   "source": [
    "#### Add `tup1` and `tup2` into `tup3` using the `+` operator.\n",
    "\n",
    "Then print `tup3` and check if `tup3` equals to `tup`."
   ]
  },
  {
   "cell_type": "code",
   "execution_count": 16,
   "metadata": {},
   "outputs": [
    {
     "name": "stdout",
     "output_type": "stream",
     "text": [
      "('I', 'r', 'o', 'n', 'h', 'a', 'c', 'k')\n"
     ]
    }
   ],
   "source": [
    "tup3 = tup1 + tup2\n",
    "print(tup3)\n",
    "#1 seguimos las instrucciones y sumamos tup1 y tup2 para obter tup3 y vemos que es igual a la variable tup"
   ]
  },
  {
   "cell_type": "markdown",
   "metadata": {},
   "source": [
    "#### Count the number of elements in `tup1` and `tup2`. Then add the two counts together and check if the sum is the same as the number of elements in `tup3`."
   ]
  },
  {
   "cell_type": "code",
   "execution_count": 17,
   "metadata": {
    "scrolled": true
   },
   "outputs": [
    {
     "name": "stdout",
     "output_type": "stream",
     "text": [
      "4\n",
      "4\n",
      "8\n",
      "8\n"
     ]
    }
   ],
   "source": [
    "number_element1=len(tup1)\n",
    "number_element2=len(tup2)\n",
    "print(number_element1)\n",
    "print(number_element2)\n",
    "final_number_element=number_element1+number_element2\n",
    "print(final_number_element)\n",
    "print(len(tup3))\n",
    "\n",
    "#1 usamos la funcion len para saber el largo de la tupla \n",
    "#2 al tener los dos largos de las tuplas las almacenamos en variables y la sumamos dejando el resultado como una nueva variable \n",
    "#3 pedimos que nos imprima el largo final de la lista y compramos viendo que tienen el mis largo de 8 elementos "
   ]
  },
  {
   "cell_type": "markdown",
   "metadata": {},
   "source": [
    "#### What is the index number of `\"h\"` in `tup3`?"
   ]
  },
  {
   "cell_type": "code",
   "execution_count": 25,
   "metadata": {},
   "outputs": [
    {
     "name": "stdout",
     "output_type": "stream",
     "text": [
      "4\n"
     ]
    }
   ],
   "source": [
    "indice1=tup3.index(\"h\")\n",
    "print(indice1)\n",
    "\n",
    "#1 definimos indice1 que no es mas que la tup3 con la funcion index().\n",
    "#2 le indicamos el elemento que queremos buscar que ahora seria la \"h\"\n",
    "#3 pedimos que nos imprima el indice1 que seria 4 \n",
    "#4 no da la conclusion de que l h esta la posicion 5 dentro de la tup3\n"
   ]
  },
  {
   "cell_type": "markdown",
   "metadata": {},
   "source": [
    "#### Now, use a FOR loop to check whether each letter in the following list is present in `tup3`:\n",
    "\n",
    "```\n",
    "letters = [\"a\", \"b\", \"c\", \"d\", \"e\"]\n",
    "```\n",
    "\n",
    "For each letter you check, print `True` if it is present in `tup3` otherwise print `False`.\n",
    "\n",
    "*Hint: you only need to loop `letters`. You don't need to loop `tup3` because there is a Python operator `in` you can use. See [reference](https://stackoverflow.com/questions/17920147/how-to-check-if-a-tuple-contains-an-element-in-python).*"
   ]
  },
  {
   "cell_type": "code",
   "execution_count": 43,
   "metadata": {
    "scrolled": true
   },
   "outputs": [
    {
     "name": "stdout",
     "output_type": "stream",
     "text": [
      "True\n",
      "False\n",
      "True\n",
      "False\n",
      "False\n"
     ]
    }
   ],
   "source": [
    "letters = [\"a\", \"b\", \"c\", \"d\", \"e\"]\n",
    "\n",
    "for letter in letters:\n",
    "    print(letter in tup3)\n",
    "    \n",
    "#print(f\"{letter}: {letter in tup3}\") funcion compactada (nola entiendo mucho)\n",
    "    \n",
    "#1 definimos letters como nos piden\n",
    "#2 usamos bucle for para iterar sobre letters . compruebe si estan letter en cada elemento de letters \n",
    "#3 pedimos que no nos imprima letter en tup3 . al comprobar caules estan te devulve un true or false "
   ]
  },
  {
   "cell_type": "markdown",
   "metadata": {},
   "source": [
    "#### How many times does each letter in `letters` appear in `tup3`?\n",
    "\n",
    "Print out the number of occurrence of each letter."
   ]
  },
  {
   "cell_type": "code",
   "execution_count": 49,
   "metadata": {},
   "outputs": [
    {
     "name": "stdout",
     "output_type": "stream",
     "text": [
      "1\n",
      "0\n",
      "1\n",
      "0\n",
      "0\n"
     ]
    }
   ],
   "source": [
    "for letter in letters:\n",
    "    occurrence=tup3.count(letter)\n",
    "    print(occurrence)\n",
    " # print(f\"{letter}:{cuentas}\")funcion compactada (nola entiendo mucho)\n",
    "\n",
    "#1 usamos el bucle for para iterar sobre letters.para las letter en letters \n",
    "#2 definimos occurrence. pedimos con el metodo .count que cuente las apariciones de cada elemento dentro letters contenidas en tup3\n",
    "#3 pedimos que nos devuelva occurrence. y te dara el numero de veces que en tup3 aparecen los elementos de tup3"
   ]
  }
 ],
 "metadata": {
  "kernelspec": {
   "display_name": "Python 3 (ipykernel)",
   "language": "python",
   "name": "python3"
  },
  "language_info": {
   "codemirror_mode": {
    "name": "ipython",
    "version": 3
   },
   "file_extension": ".py",
   "mimetype": "text/x-python",
   "name": "python",
   "nbconvert_exporter": "python",
   "pygments_lexer": "ipython3",
   "version": "3.9.19"
  }
 },
 "nbformat": 4,
 "nbformat_minor": 2
}
