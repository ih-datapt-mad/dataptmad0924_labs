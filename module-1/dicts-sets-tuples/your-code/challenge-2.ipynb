{
 "cells": [
  {
   "cell_type": "markdown",
   "metadata": {},
   "source": [
    "## Challenge 2: Sets\n",
    "\n",
    "There are a lot to learn about Python Sets and the information presented in the lesson is limited due to its length. To learn Python Sets in depth you are strongly encouraged to review the W3Schools tutorial on [Python Sets Examples and Methods](https://www.w3schools.com/python/python_sets.asp) before you work on this lab. Some difficult questions in this lab have their solutions in the W3Schools tutorial.\n",
    "\n",
    "#### First, import the Python `random` library."
   ]
  },
  {
   "cell_type": "code",
   "execution_count": 27,
   "metadata": {},
   "outputs": [],
   "source": [
    "import random"
   ]
  },
  {
   "cell_type": "markdown",
   "metadata": {},
   "source": [
    "#### In the cell below, create a list named `sample_list_1` with 80 random values. \n",
    "\n",
    "Requirements:\n",
    "\n",
    "* Each value is an integer falling between 0 and 100.\n",
    "* Each value in the list is unique.\n",
    "\n",
    "Print `sample_list_1` to review its values\n",
    "\n",
    "*Hint: use `random.sample` ([reference](https://docs.python.org/3/library/random.html#random.sample)).*"
   ]
  },
  {
   "cell_type": "code",
   "execution_count": 28,
   "metadata": {},
   "outputs": [
    {
     "name": "stdout",
     "output_type": "stream",
     "text": [
      "[100, 86, 48, 98, 73, 16, 7, 54, 85, 26, 5, 69, 83, 61, 56, 79, 36, 33, 92, 97, 90, 65, 32, 39, 4, 68, 19, 42, 78, 66, 8, 71, 27, 29, 17, 63, 53, 88, 82, 52, 35, 76, 12, 14, 57, 13, 75, 95, 70, 91, 15, 62, 96, 55, 34, 31, 41, 47, 6, 37, 2, 60, 58, 89, 9, 22, 38, 43, 23, 46, 94, 84, 25, 77, 72, 20, 28, 49, 59, 93]\n"
     ]
    }
   ],
   "source": [
    "# Your code here\n",
    "sample_list_1 = random.sample(range(1,101),80) # Here we create the list\n",
    "print(sample_list_1) # Here we show the list\n",
    "#Elements are unique because the sample function create a list of x values and each value is unique from the rest \n",
    "            \n",
    "    \n"
   ]
  },
  {
   "cell_type": "markdown",
   "metadata": {},
   "source": [
    "#### Convert `sample_list_1` to a set called `set1`. Print the length of the set. Is its length still 80?"
   ]
  },
  {
   "cell_type": "code",
   "execution_count": 29,
   "metadata": {},
   "outputs": [
    {
     "name": "stdout",
     "output_type": "stream",
     "text": [
      "80\n",
      "YES, the length still being 80\n"
     ]
    }
   ],
   "source": [
    "# Your code here\n",
    "set1 = set(sample_list_1) # Here we convert list to a set\n",
    "print(len(set1))\n",
    "\n",
    "if len(set1) == 80:\n",
    "    print(\"YES, the length still being 80\")\n",
    "else:\n",
    "    print(\"NO, the length is not 80\")"
   ]
  },
  {
   "cell_type": "markdown",
   "metadata": {},
   "source": [
    "#### Create another list named `sample_list_2` with 80 random values.\n",
    "\n",
    "Requirements:\n",
    "\n",
    "* Each value is an integer falling between 0 and 100.\n",
    "* The values in the list don't have to be unique.\n",
    "\n",
    "*Hint: Use a FOR loop.*"
   ]
  },
  {
   "cell_type": "code",
   "execution_count": 30,
   "metadata": {},
   "outputs": [
    {
     "name": "stdout",
     "output_type": "stream",
     "text": [
      "[80, 77, 23, 88, 80, 93, 1, 40, 25, 3, 46, 52, 43, 72, 48, 41, 14, 20, 87, 72, 27, 6, 45, 78, 62, 16, 100, 30, 75, 92, 18, 70, 95, 49, 3, 47, 74, 86, 84, 74, 27, 88, 43, 27, 98, 62, 25, 72, 75, 38, 17, 32, 37, 28, 58, 53, 38, 15, 31, 70, 19, 31, 69, 22, 81, 61, 32, 82, 73, 94, 52, 78, 11, 17, 6, 3, 90, 33, 38, 9]\n",
      "80\n"
     ]
    }
   ],
   "source": [
    "# Your code here\n",
    "sample_list_2 = []\n",
    "for x in range(1,81):\n",
    "    sample_list_2.append(random.randint(1, 100)) # this function append a random int from 1 to 100\n",
    "print(sample_list_2) # Here we show the list\n",
    "print(len(sample_list_2))"
   ]
  },
  {
   "cell_type": "markdown",
   "metadata": {},
   "source": [
    "#### Convert `sample_list_2` to a set called `set2`. Print the length of the set. Is its length still 80?"
   ]
  },
  {
   "cell_type": "code",
   "execution_count": 31,
   "metadata": {},
   "outputs": [
    {
     "name": "stdout",
     "output_type": "stream",
     "text": [
      "58\n",
      "NO, the length is not 80\n"
     ]
    }
   ],
   "source": [
    "# Your code here\n",
    "set2 = set(sample_list_2)\n",
    "print(len(set2))\n",
    "if len(set2) == 80:\n",
    "    print(\"YES, the length still being 80\")\n",
    "else:\n",
    "    print(\"NO, the length is not 80\")\n",
    "# Maybe its because you cannot save in a set repeated values"
   ]
  },
  {
   "cell_type": "markdown",
   "metadata": {},
   "source": [
    "#### Identify the elements present in `set1` but not in `set2`. Assign the elements to a new set named `set3`."
   ]
  },
  {
   "cell_type": "code",
   "execution_count": 32,
   "metadata": {},
   "outputs": [
    {
     "name": "stdout",
     "output_type": "stream",
     "text": [
      "Set 1: {2, 4, 5, 6, 7, 8, 9, 12, 13, 14, 15, 16, 17, 19, 20, 22, 23, 25, 26, 27, 28, 29, 31, 32, 33, 34, 35, 36, 37, 38, 39, 41, 42, 43, 46, 47, 48, 49, 52, 53, 54, 55, 56, 57, 58, 59, 60, 61, 62, 63, 65, 66, 68, 69, 70, 71, 72, 73, 75, 76, 77, 78, 79, 82, 83, 84, 85, 86, 88, 89, 90, 91, 92, 93, 94, 95, 96, 97, 98, 100}\n",
      "Set 2: {1, 3, 6, 9, 11, 14, 15, 16, 17, 18, 19, 20, 22, 23, 25, 27, 28, 30, 31, 32, 33, 37, 38, 40, 41, 43, 45, 46, 47, 48, 49, 52, 53, 58, 61, 62, 69, 70, 72, 73, 74, 75, 77, 78, 80, 81, 82, 84, 86, 87, 88, 90, 92, 93, 94, 95, 98, 100}\n",
      "Set 3: {2, 4, 5, 7, 8, 12, 13, 26, 29, 34, 35, 36, 39, 42, 54, 55, 56, 57, 59, 60, 63, 65, 66, 68, 71, 76, 79, 83, 85, 89, 91, 96, 97}\n"
     ]
    }
   ],
   "source": [
    "# Your code here\n",
    "set3 = set()\n",
    "\n",
    "for x in set1: # Here we iterate set1 \n",
    "    if x not in set2: # Here we identify if\n",
    "        set3.add(x)\n",
    "print(\"Set 1: \" + str(set1))\n",
    "print(\"Set 2: \" + str(set2))\n",
    "print(\"Set 3: \" + str(set3))\n",
    "        \n",
    "\n"
   ]
  },
  {
   "cell_type": "markdown",
   "metadata": {},
   "source": [
    "#### Identify the elements present in `set2` but not in `set1`. Assign the elements to a new set named `set4`."
   ]
  },
  {
   "cell_type": "code",
   "execution_count": 33,
   "metadata": {},
   "outputs": [
    {
     "name": "stdout",
     "output_type": "stream",
     "text": [
      "Set 1: {2, 4, 5, 6, 7, 8, 9, 12, 13, 14, 15, 16, 17, 19, 20, 22, 23, 25, 26, 27, 28, 29, 31, 32, 33, 34, 35, 36, 37, 38, 39, 41, 42, 43, 46, 47, 48, 49, 52, 53, 54, 55, 56, 57, 58, 59, 60, 61, 62, 63, 65, 66, 68, 69, 70, 71, 72, 73, 75, 76, 77, 78, 79, 82, 83, 84, 85, 86, 88, 89, 90, 91, 92, 93, 94, 95, 96, 97, 98, 100}\n",
      "Set 2: {1, 3, 6, 9, 11, 14, 15, 16, 17, 18, 19, 20, 22, 23, 25, 27, 28, 30, 31, 32, 33, 37, 38, 40, 41, 43, 45, 46, 47, 48, 49, 52, 53, 58, 61, 62, 69, 70, 72, 73, 74, 75, 77, 78, 80, 81, 82, 84, 86, 87, 88, 90, 92, 93, 94, 95, 98, 100}\n",
      "Set 4: {1, 3, 40, 74, 11, 45, 80, 81, 18, 87, 30}\n"
     ]
    }
   ],
   "source": [
    "# Your code here\n",
    "set4 = set()\n",
    "\n",
    "for x in set2: # Here we iterate set1 \n",
    "    if x not in set1: # Here we identify if\n",
    "        set4.add(x)\n",
    "print(\"Set 1: \" + str(set1))\n",
    "print(\"Set 2: \" + str(set2))\n",
    "print(\"Set 4: \" + str(set4))\n",
    "\n"
   ]
  },
  {
   "cell_type": "markdown",
   "metadata": {},
   "source": [
    "#### Now Identify the elements shared between `set1` and `set2`. Assign the elements to a new set named `set5`."
   ]
  },
  {
   "cell_type": "code",
   "execution_count": 34,
   "metadata": {},
   "outputs": [
    {
     "name": "stdout",
     "output_type": "stream",
     "text": [
      "{6, 9, 14, 15, 16, 17, 19, 20, 22, 23, 25, 27, 28, 31, 32, 33, 37, 38, 41, 43, 46, 47, 48, 49, 52, 53, 58, 61, 62, 69, 70, 72, 73, 75, 77, 78, 82, 84, 86, 88, 90, 92, 93, 94, 95, 98, 100}\n"
     ]
    }
   ],
   "source": [
    "# Your code here\n",
    "set5 = set()\n",
    "for x in set1:\n",
    "    if x in set2:\n",
    "        set5.add(x)\n",
    "print(set5)"
   ]
  },
  {
   "cell_type": "markdown",
   "metadata": {},
   "source": [
    "#### What is the relationship among the following values:\n",
    "\n",
    "* len(set1)\n",
    "* len(set2)\n",
    "* len(set3)\n",
    "* len(set4)\n",
    "* len(set5)\n",
    "\n",
    "Use a math formular to represent that relationship. Test your formular with Python code."
   ]
  },
  {
   "cell_type": "code",
   "execution_count": 35,
   "metadata": {},
   "outputs": [
    {
     "name": "stdout",
     "output_type": "stream",
     "text": [
      "Length of Set 1: 80\n",
      "Length of Set 2: 58\n",
      "Length of Set 3: 33\n",
      "Length of Set 4: 11\n",
      "Length of Set 5: 47\n"
     ]
    }
   ],
   "source": [
    "# Your code here\n",
    "print(\"Length of Set 1: \" + str(len(set1)))\n",
    "print(\"Length of Set 2: \" + str(len(set2)))\n",
    "print(\"Length of Set 3: \" + str(len(set3)))\n",
    "print(\"Length of Set 4: \" + str(len(set4)))\n",
    "print(\"Length of Set 5: \" + str(len(set5)))\n"
   ]
  },
  {
   "cell_type": "markdown",
   "metadata": {},
   "source": [
    "#### Create an empty set called `set6`."
   ]
  },
  {
   "cell_type": "code",
   "execution_count": 36,
   "metadata": {},
   "outputs": [],
   "source": [
    "# Your code here\n",
    "set6 = set()"
   ]
  },
  {
   "cell_type": "markdown",
   "metadata": {},
   "source": [
    "#### Add `set3` and `set5` to `set6` using the Python Set `update` method."
   ]
  },
  {
   "cell_type": "code",
   "execution_count": 37,
   "metadata": {},
   "outputs": [
    {
     "name": "stdout",
     "output_type": "stream",
     "text": [
      "{2, 4, 5, 7, 8, 12, 13, 26, 29, 34, 35, 36, 39, 42, 54, 55, 56, 57, 59, 60, 63, 65, 66, 68, 71, 76, 79, 83, 85, 89, 91, 96, 97}\n",
      "{6, 9, 14, 15, 16, 17, 19, 20, 22, 23, 25, 27, 28, 31, 32, 33, 37, 38, 41, 43, 46, 47, 48, 49, 52, 53, 58, 61, 62, 69, 70, 72, 73, 75, 77, 78, 82, 84, 86, 88, 90, 92, 93, 94, 95, 98, 100}\n",
      "{2, 4, 5, 6, 7, 8, 9, 12, 13, 14, 15, 16, 17, 19, 20, 22, 23, 25, 26, 27, 28, 29, 31, 32, 33, 34, 35, 36, 37, 38, 39, 41, 42, 43, 46, 47, 48, 49, 52, 53, 54, 55, 56, 57, 58, 59, 60, 61, 62, 63, 65, 66, 68, 69, 70, 71, 72, 73, 75, 76, 77, 78, 79, 82, 83, 84, 85, 86, 88, 89, 90, 91, 92, 93, 94, 95, 96, 97, 98, 100}\n"
     ]
    }
   ],
   "source": [
    "# Your code here\n",
    "set6.update(set3, set5)\n",
    "print(set3)\n",
    "print(set5)\n",
    "print(set6)"
   ]
  },
  {
   "cell_type": "markdown",
   "metadata": {},
   "source": [
    "#### Check if `set1` and `set6` are equal."
   ]
  },
  {
   "cell_type": "code",
   "execution_count": 38,
   "metadata": {},
   "outputs": [
    {
     "name": "stdout",
     "output_type": "stream",
     "text": [
      "{2, 4, 5, 6, 7, 8, 9, 12, 13, 14, 15, 16, 17, 19, 20, 22, 23, 25, 26, 27, 28, 29, 31, 32, 33, 34, 35, 36, 37, 38, 39, 41, 42, 43, 46, 47, 48, 49, 52, 53, 54, 55, 56, 57, 58, 59, 60, 61, 62, 63, 65, 66, 68, 69, 70, 71, 72, 73, 75, 76, 77, 78, 79, 82, 83, 84, 85, 86, 88, 89, 90, 91, 92, 93, 94, 95, 96, 97, 98, 100}\n",
      "{2, 4, 5, 6, 7, 8, 9, 12, 13, 14, 15, 16, 17, 19, 20, 22, 23, 25, 26, 27, 28, 29, 31, 32, 33, 34, 35, 36, 37, 38, 39, 41, 42, 43, 46, 47, 48, 49, 52, 53, 54, 55, 56, 57, 58, 59, 60, 61, 62, 63, 65, 66, 68, 69, 70, 71, 72, 73, 75, 76, 77, 78, 79, 82, 83, 84, 85, 86, 88, 89, 90, 91, 92, 93, 94, 95, 96, 97, 98, 100}\n",
      "Set1 and set2 are equal\n"
     ]
    }
   ],
   "source": [
    "# Your code here\n",
    "print(set1)\n",
    "print(set6)\n",
    "if(set1 == set6):\n",
    "    print(\"Set1 and set2 are equal\")\n"
   ]
  },
  {
   "cell_type": "markdown",
   "metadata": {},
   "source": [
    "#### Check if `set1` contains `set2` using the Python Set `issubset` method. Then check if `set1` contains `set3`.*"
   ]
  },
  {
   "cell_type": "code",
   "execution_count": 39,
   "metadata": {},
   "outputs": [
    {
     "name": "stdout",
     "output_type": "stream",
     "text": [
      "set1 not contains set2\n",
      "set1 contains set2\n"
     ]
    }
   ],
   "source": [
    "# Your code here\n",
    "contain_1 = set2.issubset(set1) # Check if set2 is contained in set1 \n",
    "contain_2 = set2.issubset(set1) # Check if set3 is contained in set1 \n",
    "if contain_1 == False:\n",
    "    print(\"set1 not contains set2\")\n",
    "else:\n",
    "    print(\"set1 contains set2\")\n",
    "\n",
    "if contain_2 == False:\n",
    "    print(\"set1 contains set2\")\n",
    "else:\n",
    "    print(\"set1 contains set3\")"
   ]
  },
  {
   "cell_type": "markdown",
   "metadata": {},
   "source": [
    "#### Using the Python Set `union` method, aggregate `set3`, `set4`, and `set5`. Then aggregate `set1` and `set2`. \n",
    "\n",
    "#### Check if the aggregated values are equal."
   ]
  },
  {
   "cell_type": "code",
   "execution_count": 40,
   "metadata": {},
   "outputs": [
    {
     "name": "stdout",
     "output_type": "stream",
     "text": [
      "{1, 2, 3, 4, 5, 6, 7, 8, 9, 11, 12, 13, 14, 15, 16, 17, 18, 19, 20, 22, 23, 25, 26, 27, 28, 29, 30, 31, 32, 33, 34, 35, 36, 37, 38, 39, 40, 41, 42, 43, 45, 46, 47, 48, 49, 52, 53, 54, 55, 56, 57, 58, 59, 60, 61, 62, 63, 65, 66, 68, 69, 70, 71, 72, 73, 74, 75, 76, 77, 78, 79, 80, 81, 82, 83, 84, 85, 86, 87, 88, 89, 90, 91, 92, 93, 94, 95, 96, 97, 98, 100}\n",
      "{1, 2, 3, 4, 5, 6, 7, 8, 9, 11, 12, 13, 14, 15, 16, 17, 18, 19, 20, 22, 23, 25, 26, 27, 28, 29, 30, 31, 32, 33, 34, 35, 36, 37, 38, 39, 40, 41, 42, 43, 45, 46, 47, 48, 49, 52, 53, 54, 55, 56, 57, 58, 59, 60, 61, 62, 63, 65, 66, 68, 69, 70, 71, 72, 73, 74, 75, 76, 77, 78, 79, 80, 81, 82, 83, 84, 85, 86, 87, 88, 89, 90, 91, 92, 93, 94, 95, 96, 97, 98, 100}\n",
      "Aggregated values are equal\n"
     ]
    }
   ],
   "source": [
    "# Your code here\n",
    "union_1 = set3.union(set4,set5)\n",
    "union_2 = set1.union(set2)\n",
    "print(union_1)\n",
    "print(union_2)\n",
    "if(union_1 == union_2):\n",
    "    print(\"Aggregated values are equal\")"
   ]
  },
  {
   "cell_type": "markdown",
   "metadata": {},
   "source": [
    "#### Using the `pop` method, remove the first element from `set1`."
   ]
  },
  {
   "cell_type": "code",
   "execution_count": 41,
   "metadata": {},
   "outputs": [
    {
     "name": "stdout",
     "output_type": "stream",
     "text": [
      "{2, 4, 5, 6, 7, 8, 9, 12, 13, 14, 15, 16, 17, 19, 20, 22, 23, 25, 26, 27, 28, 29, 31, 32, 33, 34, 35, 36, 37, 38, 39, 41, 42, 43, 46, 47, 48, 49, 52, 53, 54, 55, 56, 57, 58, 59, 60, 61, 62, 63, 65, 66, 68, 69, 70, 71, 72, 73, 75, 76, 77, 78, 79, 82, 83, 84, 85, 86, 88, 89, 90, 91, 92, 93, 94, 95, 96, 97, 98, 100}\n",
      "{4, 5, 6, 7, 8, 9, 12, 13, 14, 15, 16, 17, 19, 20, 22, 23, 25, 26, 27, 28, 29, 31, 32, 33, 34, 35, 36, 37, 38, 39, 41, 42, 43, 46, 47, 48, 49, 52, 53, 54, 55, 56, 57, 58, 59, 60, 61, 62, 63, 65, 66, 68, 69, 70, 71, 72, 73, 75, 76, 77, 78, 79, 82, 83, 84, 85, 86, 88, 89, 90, 91, 92, 93, 94, 95, 96, 97, 98, 100}\n"
     ]
    }
   ],
   "source": [
    "# Your code here\n",
    "print(set1)\n",
    "set1.pop() # Delete first element of set1\n",
    "print(set1) # Show set1 without the first element"
   ]
  },
  {
   "cell_type": "markdown",
   "metadata": {},
   "source": [
    "#### Remove every element in the following list from `set1` if they are present in the set. Print the remaining elements.\n",
    "\n",
    "```\n",
    "list_to_remove = [1, 9, 11, 19, 21, 29, 31, 39, 41, 49, 51, 59, 61, 69, 71, 79, 81, 89, 91, 99]\n",
    "```"
   ]
  },
  {
   "cell_type": "code",
   "execution_count": 47,
   "metadata": {},
   "outputs": [
    {
     "name": "stdout",
     "output_type": "stream",
     "text": [
      "{4, 5, 6, 7, 8, 12, 13, 14, 15, 16, 17, 20, 22, 23, 25, 26, 27, 28, 32, 33, 34, 35, 36, 37, 38, 42, 43, 46, 47, 48, 52, 53, 54, 55, 56, 57, 58, 60, 62, 63, 65, 66, 68, 70, 72, 73, 75, 76, 77, 78, 82, 83, 84, 85, 86, 88, 90, 92, 93, 94, 95, 96, 97, 98}\n"
     ]
    }
   ],
   "source": [
    "# Your code here\n",
    "list_to_remove = [1, 9, 11, 19, 21, 29, 31, 39, 41, 49, 51, 59, 61, 69, 71, 79, 81, 89, 91, 99]\n",
    "\n",
    "for x in range(len(list_to_remove)): # We iterate list_to_remove\n",
    "    if list_to_remove[x] in set1: # \n",
    "        set1.remove(list_to_remove[x])\n",
    "        print(str(x) + \" removed\")\n",
    "print(set1) # Show set1 without the elements of list_to_remove\n"
   ]
  },
  {
   "cell_type": "code",
   "execution_count": null,
   "metadata": {},
   "outputs": [],
   "source": []
  }
 ],
 "metadata": {
  "kernelspec": {
   "display_name": "Python 3 (ipykernel)",
   "language": "python",
   "name": "python3"
  },
  "language_info": {
   "codemirror_mode": {
    "name": "ipython",
    "version": 3
   },
   "file_extension": ".py",
   "mimetype": "text/x-python",
   "name": "python",
   "nbconvert_exporter": "python",
   "pygments_lexer": "ipython3",
   "version": "3.10.14"
  }
 },
 "nbformat": 4,
 "nbformat_minor": 4
}
