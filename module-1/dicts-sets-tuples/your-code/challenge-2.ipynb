{
 "cells": [
  {
   "cell_type": "markdown",
   "metadata": {},
   "source": [
    "## Challenge 2: Sets\n",
    "\n",
    "There are a lot to learn about Python Sets and the information presented in the lesson is limited due to its length. To learn Python Sets in depth you are strongly encouraged to review the W3Schools tutorial on [Python Sets Examples and Methods](https://www.w3schools.com/python/python_sets.asp) before you work on this lab. Some difficult questions in this lab have their solutions in the W3Schools tutorial.\n",
    "\n",
    "#### First, import the Python `random` library."
   ]
  },
  {
   "cell_type": "code",
   "execution_count": 9,
   "metadata": {},
   "outputs": [],
   "source": [
    "import random"
   ]
  },
  {
   "cell_type": "markdown",
   "metadata": {},
   "source": [
    "#### In the cell below, create a list named `sample_list_1` with 80 random values. \n",
    "\n",
    "Requirements:\n",
    "\n",
    "* Each value is an integer falling between 0 and 100.\n",
    "* Each value in the list is unique.\n",
    "\n",
    "Print `sample_list_1` to review its values\n",
    "\n",
    "*Hint: use `random.sample` ([reference](https://docs.python.org/3/library/random.html#random.sample)).*"
   ]
  },
  {
   "cell_type": "code",
   "execution_count": 16,
   "metadata": {},
   "outputs": [
    {
     "name": "stdout",
     "output_type": "stream",
     "text": [
      "[75, 89, 60, 74, 20, 46, 93, 57, 2, 65, 35, 79, 5, 56, 71, 50, 76, 96, 34, 8, 32, 58, 42, 14, 59, 100, 52, 1, 91, 30, 83, 87, 23, 68, 95, 22, 85, 48, 29, 17, 45, 0, 82, 92, 9, 7, 15, 73, 41, 38, 55, 36, 66, 80, 13, 62, 67, 53, 47, 12, 84, 3, 27, 26, 51, 21, 43, 44, 69, 72, 16, 49, 70, 86, 39, 33, 77, 88, 18, 28]\n"
     ]
    },
    {
     "data": {
      "text/plain": [
       "80"
      ]
     },
     "execution_count": 16,
     "metadata": {},
     "output_type": "execute_result"
    }
   ],
   "source": [
    "sample_list_1 =random.sample(range(0,101), 80)\n",
    "print(sample_list_1)\n",
    "len(sample_list_1)\n",
    "#1 definimos sample_list_1 y usamos la funcion random.sample() para genera numeros al azar indicandole el rango (incion,fin) y el largo de la lista()\n",
    "#2 pedimos que nos imprima la sample_list_1\n",
    "#3 use el metodo len para asegurame de que la lista tuviera el largo adecuado "
   ]
  },
  {
   "cell_type": "markdown",
   "metadata": {},
   "source": [
    "#### Convert `sample_list_1` to a set called `set1`. Print the length of the set. Is its length still 80?"
   ]
  },
  {
   "cell_type": "code",
   "execution_count": 88,
   "metadata": {
    "scrolled": true
   },
   "outputs": [
    {
     "name": "stdout",
     "output_type": "stream",
     "text": [
      "80\n",
      "{0, 1, 2, 3, 5, 7, 8, 9, 12, 13, 14, 15, 16, 17, 18, 20, 21, 22, 23, 26, 27, 28, 29, 30, 32, 33, 34, 35, 36, 38, 39, 41, 42, 43, 44, 45, 46, 47, 48, 49, 50, 51, 52, 53, 55, 56, 57, 58, 59, 60, 62, 65, 66, 67, 68, 69, 70, 71, 72, 73, 74, 75, 76, 77, 79, 80, 82, 83, 84, 85, 86, 87, 88, 89, 91, 92, 93, 95, 96, 100}\n"
     ]
    }
   ],
   "source": [
    "set1=set(sample_list_1)    # recordar que los set son parecidos a las listas \n",
    "print(len(set1))           #Los elementos de un set son único, lo que significa que no puede haber elementos duplicados.\n",
    "print(set1)                #Los set son desordenados, lo que significa que no mantienen el orden de cuando son declarados.Sus elementos deben ser inmutables.\n",
    "\n",
    "\n",
    "#1 definimos set3 usamos el metedo set para convertirlo y lo almacenamos en set1\n",
    "#2 le pedimos que nos muestre la longitud del set usan el print() y el metodo len()\n"
   ]
  },
  {
   "cell_type": "markdown",
   "metadata": {},
   "source": [
    "#### Create another list named `sample_list_2` with 80 random values.\n",
    "\n",
    "Requirements:\n",
    "\n",
    "* Each value is an integer falling between 0 and 100.\n",
    "* The values in the list don't have to be unique.\n",
    "\n",
    "*Hint: Use a FOR loop.*"
   ]
  },
  {
   "cell_type": "code",
   "execution_count": 12,
   "metadata": {},
   "outputs": [
    {
     "name": "stdout",
     "output_type": "stream",
     "text": [
      "[14, 65, 92, 4, 2, 9, 80, 14, 76, 84, 29, 79, 90, 3, 61, 80, 96, 88, 33, 63, 67, 9, 4, 16, 88, 1, 44, 49, 23, 94, 48, 16, 49, 26, 16, 39, 72, 73, 49, 55, 50, 63, 20, 22, 54, 91, 24, 95, 95, 52, 61, 101, 30, 20, 79, 101, 73, 30, 43, 4, 69, 19, 87, 37, 47, 62, 45, 76, 65, 69, 19, 97, 68, 64, 50, 71, 57, 25, 73, 13]\n",
      "80\n"
     ]
    }
   ],
   "source": [
    "sample_list_2 = []\n",
    "\n",
    "for i in range(80):\n",
    "    sample_list_2.append(random.randint(0, 101))\n",
    "print(sample_list_2)\n",
    "print(len(sample_list_2))\n",
    "\n",
    "#1 definimos sample_list_2 y creamos una lista vacia \n",
    "#2 usamos el bucle for para indicar que los numeros en una rango hasta 80\n",
    "#3 luego con el metedo .append() le indicamos que sume a la lista vacias esos numero generadosde manera al azar y con el rango de 80 usando el metodo ramdon.randint()\n",
    "#4 pedimos que nos imprima la sample_list_2 comprobando si se genero una lista al azar con los numero de 0 al 100 y en el largo de 80 elementos\n",
    "#5 pedimos que nos muestre el largo de la sample_list_2 con la funcion len "
   ]
  },
  {
   "cell_type": "markdown",
   "metadata": {},
   "source": [
    "#### Convert `sample_list_2` to a set called `set2`. Print the length of the set. Is its length still 80?"
   ]
  },
  {
   "cell_type": "code",
   "execution_count": 19,
   "metadata": {},
   "outputs": [
    {
     "name": "stdout",
     "output_type": "stream",
     "text": [
      "56\n",
      "{1, 2, 3, 4, 9, 13, 14, 16, 19, 20, 22, 23, 24, 25, 26, 29, 30, 33, 37, 39, 43, 44, 45, 47, 48, 49, 50, 52, 54, 55, 57, 61, 62, 63, 64, 65, 67, 68, 69, 71, 72, 73, 76, 79, 80, 84, 87, 88, 90, 91, 92, 94, 95, 96, 97, 101}\n"
     ]
    },
    {
     "data": {
      "text/plain": [
       "set"
      ]
     },
     "execution_count": 19,
     "metadata": {},
     "output_type": "execute_result"
    }
   ],
   "source": [
    "set2=set(sample_list_2)\n",
    "print(len(set2))\n",
    "print(set2)\n",
    "type(set2)\n",
    "#1 definimos set2 y usamos metodo set para convertir sample_list_2 en un set.\n",
    "#2 pedimos que nos imprima el largo del set2 que es 56 debido a que no pueden tener elementos repetidos\n",
    "#3 pedimos que nos muestre set2 \n",
    "#4 me aseguro que el tipode dato sea set "
   ]
  },
  {
   "cell_type": "markdown",
   "metadata": {},
   "source": [
    "#### Identify the elements present in `set1` but not in `set2`. Assign the elements to a new set named `set3`."
   ]
  },
  {
   "cell_type": "code",
   "execution_count": 33,
   "metadata": {},
   "outputs": [
    {
     "name": "stdout",
     "output_type": "stream",
     "text": [
      "{0, 5, 7, 8, 12, 15, 17, 18, 21, 27, 28, 32, 34, 35, 36, 38, 41, 42, 46, 51, 53, 56, 58, 59, 60, 66, 70, 74, 75, 77, 82, 83, 85, 86, 89, 93, 100}\n",
      "<class 'set'>\n",
      "{0, 5, 7, 8, 12, 15, 17, 18, 21, 27, 28, 32, 34, 35, 36, 38, 41, 42, 46, 51, 53, 56, 58, 59, 60, 66, 70, 74, 75, 77, 82, 83, 85, 86, 89, 93, 100}\n"
     ]
    }
   ],
   "source": [
    " # 1 solucion \n",
    "set3 = set1.difference(set2)\n",
    "print(set3)\n",
    "print(type(set3))\n",
    "\n",
    "#1 se define set3 y se usa el metodo .difference() que te da la diferencia entre set1 y set2\n",
    "#2 pedimos que nos imprima el set2\n",
    "#3 nos aseguramos que sea un set\n",
    "\n",
    "\n",
    "\n",
    "#2 solucion\n",
    "set3=set1-set2\n",
    "print(set3)\n",
    "#1 se define set3 y simple mentas restas set1 y set2 para la diferencia de set1 respecto a set 2\n",
    "#2 pedimos que nos imprima set3"
   ]
  },
  {
   "cell_type": "markdown",
   "metadata": {},
   "source": [
    "#### Identify the elements present in `set2` but not in `set1`. Assign the elements to a new set named `set4`."
   ]
  },
  {
   "cell_type": "code",
   "execution_count": 34,
   "metadata": {},
   "outputs": [
    {
     "name": "stdout",
     "output_type": "stream",
     "text": [
      "{64, 97, 4, 37, 101, 19, 54, 24, 25, 90, 61, 94, 63}\n",
      "{64, 97, 4, 37, 101, 19, 54, 24, 25, 90, 61, 94, 63}\n"
     ]
    }
   ],
   "source": [
    "# 1 solucion  \n",
    "set4=set2.difference(set1)\n",
    "print(set4)\n",
    "#1 definimos set4. hacemos igual que el otro ejercicio. solo que ahora buscamosla difrencia de set2 respecto al set 1\n",
    "#2 pedimos que nos imprima set4\n",
    "# 2 solucion \n",
    "set4=set2-set1\n",
    "print(set4)\n",
    "#1segumos los paso del otro ejercio solo que set2 respecto a set1"
   ]
  },
  {
   "cell_type": "markdown",
   "metadata": {},
   "source": [
    "#### Now Identify the elements shared between `set1` and `set2`. Assign the elements to a new set named `set5`."
   ]
  },
  {
   "cell_type": "code",
   "execution_count": 35,
   "metadata": {
    "scrolled": false
   },
   "outputs": [
    {
     "name": "stdout",
     "output_type": "stream",
     "text": [
      "{1, 2, 3, 9, 13, 14, 16, 20, 22, 23, 26, 29, 30, 33, 39, 43, 44, 45, 47, 48, 49, 50, 52, 55, 57, 62, 65, 67, 68, 69, 71, 72, 73, 76, 79, 80, 84, 87, 88, 91, 92, 95, 96}\n",
      "<class 'set'>\n"
     ]
    }
   ],
   "source": [
    "set5 = set1.intersection(set2)\n",
    "print(set5)\n",
    "print(type(set5))\n",
    "#1 definimos set5. usamos el metodo .intersection() que nos da los elementos que comparten set1 ys set2\n",
    "#2 pedimos que no imprima set5 \n",
    "#3 verificamos el tipo de dato"
   ]
  },
  {
   "cell_type": "markdown",
   "metadata": {},
   "source": [
    "#### What is the relationship among the following values:\n",
    "\n",
    "* len(set1)\n",
    "* len(set2)\n",
    "* len(set3)\n",
    "* len(set4)\n",
    "* len(set5)\n",
    "\n",
    "Use a math formular to represent that relationship. Test your formular with Python code."
   ]
  },
  {
   "cell_type": "code",
   "execution_count": 38,
   "metadata": {
    "scrolled": false
   },
   "outputs": [
    {
     "name": "stdout",
     "output_type": "stream",
     "text": [
      "136\n",
      "136\n"
     ]
    }
   ],
   "source": [
    "len_set1=(len(set1))\n",
    "len_set2=(len(set2))\n",
    "len_set3=(len(set3))\n",
    "len_set4=(len(set4))\n",
    "len_set5=(len(set5))\n",
    "\n",
    "total_1 = len_set1 + len_set2 \n",
    "total_2 = len_set3 + len_set4 + 2 * len_set5 \n",
    "\n",
    "print(total_1)\n",
    "print(total_2)\n",
    "\n",
    "#1 definimos cada una de las variables len_set respectivamente . y usamos el metodo len para tener el largo del set \n",
    "#2 al tener el largo en cada variable realizamos la siguientes operaciones matematicas\n",
    "#3 total_1 es la suma de set1 y set2\n",
    "#4 total_2 es la suma de la diferencia de set1 sobre set2 (set3)+ la difrencia de set2 respecto a set1 (set4) y el doble de la interseccion que es (set5)\n",
    "#5 conclusion: vemos que tiene el mismo largo asi que intuimos que las operaciones son correctas al venir de set1 y set2"
   ]
  },
  {
   "cell_type": "markdown",
   "metadata": {},
   "source": [
    "#### Create an empty set called `set6`."
   ]
  },
  {
   "cell_type": "code",
   "execution_count": 43,
   "metadata": {},
   "outputs": [
    {
     "name": "stdout",
     "output_type": "stream",
     "text": [
      "set()\n"
     ]
    }
   ],
   "source": [
    "set6={}\n",
    "set6=set(set6)\n",
    "print(set6)\n",
    "#1 definimos set6 y hacemos un set6 \n",
    "#2 usamos el metodo set para convertirlo en set y que no de problemas despues.\n",
    "#3 pedimos que nos imprima el set\n"
   ]
  },
  {
   "cell_type": "markdown",
   "metadata": {},
   "source": [
    "#### Add `set3` and `set5` to `set6` using the Python Set `update` method."
   ]
  },
  {
   "cell_type": "code",
   "execution_count": 47,
   "metadata": {},
   "outputs": [
    {
     "name": "stdout",
     "output_type": "stream",
     "text": [
      "{0, 1, 2, 3, 5, 7, 8, 9, 12, 13, 14, 15, 16, 17, 18, 20, 21, 22, 23, 26, 27, 28, 29, 30, 32, 33, 34, 35, 36, 38, 39, 41, 42, 43, 44, 45, 46, 47, 48, 49, 50, 51, 52, 53, 55, 56, 57, 58, 59, 60, 62, 65, 66, 67, 68, 69, 70, 71, 72, 73, 74, 75, 76, 77, 79, 80, 82, 83, 84, 85, 86, 87, 88, 89, 91, 92, 93, 95, 96, 100}\n"
     ]
    }
   ],
   "source": [
    "set6.update(set3,set5)\n",
    "print(set6)\n",
    "#1 usamos el metodo .update() para incluir set3 y set5 en set6\n",
    "#2 verificamos set6"
   ]
  },
  {
   "cell_type": "markdown",
   "metadata": {},
   "source": [
    "#### Check if `set1` and `set6` are equal."
   ]
  },
  {
   "cell_type": "code",
   "execution_count": 49,
   "metadata": {},
   "outputs": [
    {
     "name": "stdout",
     "output_type": "stream",
     "text": [
      "True\n"
     ]
    }
   ],
   "source": [
    "equal= set1 == set6\n",
    "print(equal)\n",
    "#1 definimos equal  y vemos si son iguales set1 y set6\n",
    "#2 nos devuelve que se cumple la condición "
   ]
  },
  {
   "cell_type": "markdown",
   "metadata": {},
   "source": [
    "#### Check if `set1` contains `set2` using the Python Set `issubset` method. Then check if `set1` contains `set3`.*"
   ]
  },
  {
   "cell_type": "code",
   "execution_count": 53,
   "metadata": {},
   "outputs": [
    {
     "name": "stdout",
     "output_type": "stream",
     "text": [
      "False\n",
      "True\n"
     ]
    }
   ],
   "source": [
    "contiene_1=set2.issubset(set1)\n",
    "contiene_2=set3.issubset(set1)\n",
    "print(contiene_1)\n",
    "print(contiene_2)\n",
    "#1 definimos cotiene_1 y usamos el metedo .issubset() para comprobarlos \n",
    "#2 hacemos los mismo con el segundo paso \n",
    "#3 pedimos que nos los imprima y vemos que set1 contiene a set2 y que que set3 no esta contenida en set1\n"
   ]
  },
  {
   "cell_type": "markdown",
   "metadata": {},
   "source": [
    "#### Using the Python Set `union` method, aggregate `set3`, `set4`, and `set5`. Then aggregate `set1` and `set2`. \n",
    "\n",
    "#### Check if the aggregated values are equal."
   ]
  },
  {
   "cell_type": "code",
   "execution_count": 86,
   "metadata": {},
   "outputs": [
    {
     "name": "stdout",
     "output_type": "stream",
     "text": [
      "{1, 2, 3, 4, 9, 13, 14, 16, 19, 20, 22, 23, 24, 25, 26, 29, 30, 33, 37, 39, 41, 42, 43, 44, 45, 46, 47, 48, 49, 50, 51, 52, 53, 54, 55, 56, 57, 58, 59, 60, 61, 62, 63, 64, 65, 66, 67, 68, 69, 70, 71, 72, 73, 74, 75, 76, 77, 79, 80, 82, 83, 84, 85, 86, 87, 88, 89, 90, 91, 92, 93, 94, 95, 96, 97, 100, 101}\n",
      "{0, 1, 2, 3, 4, 5, 7, 8, 9, 12, 13, 14, 15, 16, 17, 18, 19, 20, 21, 22, 23, 24, 25, 26, 27, 28, 29, 30, 32, 33, 34, 35, 36, 37, 38, 39, 41, 42, 43, 44, 45, 46, 47, 48, 49, 50, 51, 52, 53, 54, 55, 56, 57, 58, 59, 60, 61, 62, 63, 64, 65, 66, 67, 68, 69, 70, 71, 72, 73, 74, 75, 76, 77, 79, 80, 82, 83, 84, 85, 86, 87, 88, 89, 90, 91, 92, 93, 94, 95, 96, 97, 100, 101}\n",
      "False\n"
     ]
    }
   ],
   "source": [
    "union_set1_2 = set1.union(set2)\n",
    "union_set3_4_5 = set3.union(set4).union(set5)\n",
    "print(union_set1_2)\n",
    "print(union_set3_4_5)\n",
    "igualdad = union_set3_4_5 == union_set1_2\n",
    "print(igualdad)\n",
    "#1 definimos la uniones . usamos el metodo .union() para agregar set1 y set2 . y luego set3 set4 y set5\n",
    "#2 pedimos ver los resutaldos y vemos que son iguales\n",
    "#3 igualamos las uniones y pedimos que ves si se cumple la condición. si si son iguales"
   ]
  },
  {
   "cell_type": "markdown",
   "metadata": {},
   "source": [
    "#### Using the `pop` method, remove the first element from `set1`."
   ]
  },
  {
   "cell_type": "code",
   "execution_count": 89,
   "metadata": {},
   "outputs": [
    {
     "name": "stdout",
     "output_type": "stream",
     "text": [
      "0\n"
     ]
    }
   ],
   "source": [
    "remove_elemente=set.pop(set1)\n",
    "print(remove_elemente)\n",
    "#1definimos y usamos el metodo .pop() para quita el primer elemento\n",
    "#2 pedimos ver el elemento eliminado\n"
   ]
  },
  {
   "cell_type": "markdown",
   "metadata": {},
   "source": [
    "#### Remove every element in the following list from `set1` if they are present in the set. Print the remaining elements.\n",
    "\n",
    "```\n",
    "list_to_remove = [1, 9, 11, 19, 21, 29, 31, 39, 41, 49, 51, 59, 61, 69, 71, 79, 81, 89, 91, 99]\n",
    "```"
   ]
  },
  {
   "cell_type": "code",
   "execution_count": 263,
   "metadata": {},
   "outputs": [
    {
     "name": "stdout",
     "output_type": "stream",
     "text": [
      "{4, 5, 6, 7, 8, 10, 12, 13, 14, 15, 16, 18, 20, 23, 24, 26, 27, 30, 32, 33, 34, 35, 36, 37, 38, 40, 42, 44, 45, 46, 47, 48, 52, 54, 55, 56, 57, 58, 60, 62, 63, 64, 67, 70, 72, 73, 75, 76, 77, 78, 80, 82, 84, 85, 86, 88, 90, 93, 94, 95, 96, 97, 98, 100}\n"
     ]
    }
   ],
   "source": [
    "list_to_remove = [1, 9, 11, 19, 21, 29, 31, 39, 41, 49, 51, 59, 61, 69, 71, 79, 81, 89, 91, 99]\n",
    "set_list_remove=set(list_to_remove)\n",
    "set1.discard(set_list_remove)\n",
    "print(set1)\n",
    "\n",
    "#1 definimos la lista que queremos remover.\n",
    "#2 la convertimos en un set\n",
    "#3 usamos el metodo .discard para que descarte los numero del el set_list_remove\n",
    "#4 verificamos con un print que no esten los numero que queriamos descartar \n",
    "    \n",
    "\n"
   ]
  }
 ],
 "metadata": {
  "kernelspec": {
   "display_name": "Python 3 (ipykernel)",
   "language": "python",
   "name": "python3"
  },
  "language_info": {
   "codemirror_mode": {
    "name": "ipython",
    "version": 3
   },
   "file_extension": ".py",
   "mimetype": "text/x-python",
   "name": "python",
   "nbconvert_exporter": "python",
   "pygments_lexer": "ipython3",
   "version": "3.9.19"
  }
 },
 "nbformat": 4,
 "nbformat_minor": 2
}
