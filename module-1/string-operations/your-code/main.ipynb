{
 "cells": [
  {
   "cell_type": "markdown",
   "metadata": {},
   "source": [
    "# Before your start:\n",
    "- Read the README.md file\n",
    "- Comment as much as you can and use the resources in the README.md file\n",
    "- Happy learning!"
   ]
  },
  {
   "cell_type": "code",
   "execution_count": null,
   "metadata": {},
   "outputs": [],
   "source": [
    "import re"
   ]
  },
  {
   "cell_type": "markdown",
   "metadata": {},
   "source": [
    "# Challenge 1 - Combining Strings\n",
    "\n",
    "Combining strings is an important skill to acquire. There are multiple ways of combining strings in Python, as well as combining strings with variables. We will explore this in the first challenge. In the cell below, combine the strings in the list and add spaces between the strings (do not add a space after the last string). Insert a period after the last string."
   ]
  },
  {
   "cell_type": "code",
   "execution_count": 16,
   "metadata": {},
   "outputs": [
    {
     "name": "stdout",
     "output_type": "stream",
     "text": [
      "Durante un tiempo no estuvo segura de si su marido era su marido marido.\n"
     ]
    }
   ],
   "source": [
    "str_list = ['Durante', 'un', 'tiempo', 'no', 'estuvo', 'segura', 'de', 'si', 'su', 'marido', 'era', 'su', 'marido']\n",
    "# Your code here:\n",
    "str = ''\n",
    "index = 0\n",
    "for x in str_list:\n",
    "    index += 1\n",
    "    str += x + \" \"\n",
    "    if index == len(str_list):\n",
    "        str += x + \".\"\n",
    "print(str)\n"
   ]
  },
  {
   "cell_type": "markdown",
   "metadata": {},
   "source": [
    "In the cell below, use the list of strings to create a grocery list. Start the list with the string `Grocery list: ` and include a comma and a space between each item except for the last one. Include a period at the end. Only include foods in the list that start with the letter 'b' and ensure all foods are lower case."
   ]
  },
  {
   "cell_type": "code",
   "execution_count": 26,
   "metadata": {},
   "outputs": [
    {
     "name": "stdout",
     "output_type": "stream",
     "text": [
      "Grocery list: \n",
      "bananas, bread, brownie mix, broccoli.\n",
      "7\n"
     ]
    }
   ],
   "source": [
    "food_list = ['Bananas', 'Chocolate', 'bread', 'diapers', 'Ice Cream', 'Brownie Mix', 'broccoli']\n",
    "# Your code here:\n",
    "print(\"Grocery list: \")\n",
    "str_food = ''\n",
    "index = 0\n",
    "for x in food_list:\n",
    "    index += 1\n",
    "    x = x.lower()\n",
    "    if x.startswith('b'):\n",
    "        if index == len(food_list):\n",
    "            str_food += x + \".\"\n",
    "        else:\n",
    "            str_food += x + \", \"\n",
    "\n",
    "            \n",
    "        \n",
    "print(str_food)\n",
    "print(index)\n",
    "        \n"
   ]
  },
  {
   "cell_type": "markdown",
   "metadata": {},
   "source": [
    "In the cell below, write a function that computes the area of a circle using its radius. Compute the area of the circle and insert the radius and the area between the two strings. Make sure to include spaces between the variable and the strings. \n",
    "\n",
    "Note: You can use the techniques we have learned so far or use f-strings. F-strings allow us to embed code inside strings. You can read more about f-strings [here](https://www.python.org/dev/peps/pep-0498/)."
   ]
  },
  {
   "cell_type": "code",
   "execution_count": 50,
   "metadata": {},
   "outputs": [
    {
     "data": {
      "text/plain": [
       "'The area of the circle with radius: is: 63.61725123519331'"
      ]
     },
     "execution_count": 50,
     "metadata": {},
     "output_type": "execute_result"
    }
   ],
   "source": [
    "import math\n",
    "\n",
    "string1 = \"The area of the circle with radius:\"\n",
    "string2  = \"is:\"\n",
    "radius = 4.5\n",
    "\n",
    "def area(x, pi = math.pi):\n",
    "    \"\"\"\n",
    "    This function takes a radius and returns the area of a circle. \n",
    "    We also pass a default value for pi.\n",
    "    \n",
    "    Input: Float (and default value for pi)\n",
    "    Output: Float\n",
    "    \n",
    "    Sample input: 5.0\n",
    "    Sample Output: 78.53981633\n",
    "    \"\"\"\n",
    "    \n",
    "    # Your code here:\n",
    "    return pi * (x * x)\n",
    "    \n",
    "    \n",
    "# Your output string here:\n",
    "f\"{string1}\" + \" \" +  f\"{string2}\" + \" \" + f\"{area(radius, pi = math.pi)}\""
   ]
  },
  {
   "cell_type": "markdown",
   "metadata": {},
   "source": [
    "# Challenge 2 - Splitting Strings\n",
    "\n",
    "We have first looked at combining strings into one long string. There are times where we need to do the opposite and split the string into smaller components for further analysis. \n",
    "\n",
    "In the cell below, split the string into a list of strings using the space delimiter. Count the frequency of each word in the string in a dictionary. Strip the periods, line breaks and commas from the text. Make sure to remove empty strings from your dictionary."
   ]
  },
  {
   "cell_type": "code",
   "execution_count": 95,
   "metadata": {},
   "outputs": [
    {
     "name": "stdout",
     "output_type": "stream",
     "text": [
      "<class 'str'>\n",
      "{'Some': 2, 'say': 3, 'the': 1, 'world': 1, 'will': 1, 'end': 1, 'in': 2, 'fire': 2, '': 4, 'ice': 2, 'From': 1, 'what': 1, 'I’ve': 1, 'tasted': 1, 'of': 2, 'desire': 1, 'I': 3, 'hold': 1, 'with': 1, 'those': 1, 'who': 1, 'favor': 1, 'But': 1, 'if': 1, 'it': 1, 'had': 1, 'to': 1, 'perish': 1, 'twice': 1, 'think': 1, 'know': 1, 'enough': 1, 'hate': 1, 'To': 1, 'that': 1, 'for': 1, 'destruction': 1, 'Is': 1, 'also': 1, 'great': 1, 'And': 1, 'would': 1, 'suffice': 1}\n"
     ]
    }
   ],
   "source": [
    "poem = \"\"\"Some say the world will end in fire,\n",
    "Some say in ice.\n",
    "From what I’ve tasted of desire\n",
    "I hold with those who favor fire.\n",
    "But if it had to perish twice,\n",
    "I think I know enough of hate\n",
    "To say that for destruction ice\n",
    "Is also great\n",
    "And would suffice.\"\"\"\n",
    "\n",
    "# Your code here:\n",
    "print(type(poem))\n",
    "#Strip the periods, line breaks and commas from the text.\n",
    "poem = poem.replace(\"\\n\",\" \")\n",
    "poem = poem.replace(\".\",\" \")\n",
    "poem = poem.replace(\",\",\" \" )\n",
    "poem = poem.strip().split(\" \")\n",
    "\n",
    "\n",
    "dicc_poem = {}\n",
    "index = 0\n",
    "for x in poem:\n",
    "    if x not in dicc_poem:\n",
    "        freq = 0\n",
    "        for y in poem:\n",
    "            if x == y: #Check if the words are repeat\n",
    "                freq += 1\n",
    "                dicc_poem[x] = freq\n",
    "        \n",
    "    \n",
    "\n",
    "            \n",
    "            \n",
    "    \n",
    "print(dicc_poem)"
   ]
  },
  {
   "cell_type": "markdown",
   "metadata": {},
   "source": [
    "In the cell below, find all the words that appear in the text and do not appear in the blacklist. You must parse the string but can choose any data structure you wish for the words that do not appear in the blacklist. Remove all non letter characters and convert all words to lower case."
   ]
  },
  {
   "cell_type": "code",
   "execution_count": 1,
   "metadata": {},
   "outputs": [
    {
     "name": "stdout",
     "output_type": "stream",
     "text": [
      "i was angry with my friend; \n",
      "i told my wrath, my wrath did end.\n",
      "i was angry with my foe: \n",
      "i told it not, my wrath did grow. \n",
      "\n",
      "and i waterd it in fears,\n",
      "night & morning with my tears: \n",
      "and i sunned it with smiles,\n",
      "and with soft deceitful wiles. \n",
      "\n",
      "and it grew both day and night. \n",
      "till it bore an apple bright. \n",
      "and my foe beheld it shine,\n",
      "and he knew that it was mine. \n",
      "\n",
      "and into my garden stole, \n",
      "when the night had veild the pole; \n",
      "in the morning glad i see; \n",
      "my foe outstretched beneath the tree.\n",
      "The words that not appear in the black list are: iiiiiii       wwwwwwwaaaaaasssssss       aaaaaannnnnnngggggggrrrrrrryyyyyyy       wwwwwwwiiiiiiittttttthhhhhhh       mmmmmmmyyyyyyy       fffffffrrrrrrriiiiiiieeeeeeennnnnnnddddddd                     iiiiiii       tttttttooooooolllllllddddddd       mmmmmmmyyyyyyy       wwwwwwwrrrrrrraaaaaattttttthhhhhhh              mmmmmmmyyyyyyy       wwwwwwwrrrrrrraaaaaattttttthhhhhhh       dddddddiiiiiiiddddddd       eeeeeeennnnnnnddddddd              iiiiiii       wwwwwwwaaaaaasssssss       aaaaaannnnnnngggggggrrrrrrryyyyyyy       wwwwwwwiiiiiiittttttthhhhhhh       mmmmmmmyyyyyyy       fffffffoooooooeeeeeee                     iiiiiii       tttttttooooooolllllllddddddd       iiiiiiittttttt       nnnnnnnooooooottttttt              mmmmmmmyyyyyyy       wwwwwwwrrrrrrraaaaaattttttthhhhhhh       dddddddiiiiiiiddddddd       gggggggrrrrrrrooooooowwwwwww                            aaaaaannnnnnnddddddd       iiiiiii       wwwwwwwaaaaaattttttteeeeeeerrrrrrrddddddd       iiiiiiittttttt       iiiiiiinnnnnnn       fffffffeeeeeeeaaaaaarrrrrrrsssssss              nnnnnnniiiiiiiggggggghhhhhhhttttttt                     mmmmmmmooooooorrrrrrrnnnnnnniiiiiiinnnnnnnggggggg       wwwwwwwiiiiiiittttttthhhhhhh       mmmmmmmyyyyyyy       ttttttteeeeeeeaaaaaarrrrrrrsssssss                     aaaaaannnnnnnddddddd       iiiiiii       sssssssuuuuuuunnnnnnnnnnnnnneeeeeeeddddddd       iiiiiiittttttt       wwwwwwwiiiiiiittttttthhhhhhh       sssssssmmmmmmmiiiiiiillllllleeeeeeesssssss              aaaaaannnnnnnddddddd       wwwwwwwiiiiiiittttttthhhhhhh       sssssssooooooofffffffttttttt       dddddddeeeeeeeccccccceeeeeeeiiiiiiitttttttfffffffuuuuuuulllllll       wwwwwwwiiiiiiillllllleeeeeeesssssss                            aaaaaannnnnnnddddddd       iiiiiiittttttt       gggggggrrrrrrreeeeeeewwwwwww       bbbbbbbooooooottttttthhhhhhh       dddddddaaaaaayyyyyyy       aaaaaannnnnnnddddddd       nnnnnnniiiiiiiggggggghhhhhhhttttttt                     tttttttiiiiiiillllllllllllll       iiiiiiittttttt       bbbbbbbooooooorrrrrrreeeeeee       aaaaaannnnnnn       aaaaaappppppppppppppllllllleeeeeee       bbbbbbbrrrrrrriiiiiiiggggggghhhhhhhttttttt                     aaaaaannnnnnnddddddd       mmmmmmmyyyyyyy       fffffffoooooooeeeeeee       bbbbbbbeeeeeeehhhhhhheeeeeeelllllllddddddd       iiiiiiittttttt       ssssssshhhhhhhiiiiiiinnnnnnneeeeeee              aaaaaannnnnnnddddddd       hhhhhhheeeeeee       kkkkkkknnnnnnneeeeeeewwwwwww       ttttttthhhhhhhaaaaaattttttt       iiiiiiittttttt       wwwwwwwaaaaaasssssss       mmmmmmmiiiiiiinnnnnnneeeeeee                            aaaaaannnnnnnddddddd       iiiiiiinnnnnnntttttttooooooo       mmmmmmmyyyyyyy       gggggggaaaaaarrrrrrrdddddddeeeeeeennnnnnn       ssssssstttttttooooooollllllleeeeeee                     wwwwwwwhhhhhhheeeeeeennnnnnn       ttttttthhhhhhheeeeeee       nnnnnnniiiiiiiggggggghhhhhhhttttttt       hhhhhhhaaaaaaddddddd       vvvvvvveeeeeeeiiiiiiilllllllddddddd       ttttttthhhhhhheeeeeee       pppppppooooooollllllleeeeeee                     iiiiiiinnnnnnn       ttttttthhhhhhheeeeeee       mmmmmmmooooooorrrrrrrnnnnnnniiiiiiinnnnnnnggggggg       ggggggglllllllaaaaaaddddddd       iiiiiii       ssssssseeeeeeeeeeeeee                     mmmmmmmyyyyyyy       fffffffoooooooeeeeeee       ooooooouuuuuuutttttttssssssstttttttrrrrrrreeeeeeetttttttccccccchhhhhhheeeeeeeddddddd       bbbbbbbeeeeeeennnnnnneeeeeeeaaaaaattttttthhhhhhh       ttttttthhhhhhheeeeeee       tttttttrrrrrrreeeeeeeeeeeeee       \n"
     ]
    }
   ],
   "source": [
    "blacklist = ['and', 'as', 'an', 'a', 'the', 'in', 'it']\n",
    "\n",
    "poem = \"\"\"I was angry with my friend; \n",
    "I told my wrath, my wrath did end.\n",
    "I was angry with my foe: \n",
    "I told it not, my wrath did grow. \n",
    "\n",
    "And I waterd it in fears,\n",
    "Night & morning with my tears: \n",
    "And I sunned it with smiles,\n",
    "And with soft deceitful wiles. \n",
    "\n",
    "And it grew both day and night. \n",
    "Till it bore an apple bright. \n",
    "And my foe beheld it shine,\n",
    "And he knew that it was mine. \n",
    "\n",
    "And into my garden stole, \n",
    "When the night had veild the pole; \n",
    "In the morning glad I see; \n",
    "My foe outstretched beneath the tree.\"\"\"\n",
    "\n",
    "# Your code here:\n",
    "\n",
    "\n",
    "#Remove all non letter characters and convert all words to lower case.\n",
    "poem = poem.lower()\n",
    "print(poem)\n",
    "non_blacklist = ''\n",
    "poem = poem.replace(\"\\n\",\" \")\n",
    "poem = poem.replace(\".\",\" \")\n",
    "poem = poem.replace(\",\",\" \" )\n",
    "poem = poem.replace(\":\",\" \" )\n",
    "poem = poem.replace(\";\",\" \" )\n",
    "poem = poem.replace(\"&\",\" \" )\n",
    "\n",
    "for x in poem:\n",
    "    for y in blacklist:\n",
    "        if x != y:\n",
    "            non_blacklist += x\n",
    "\n",
    "print(\"The words that not appear in the black list are: \" + non_blacklist)\n",
    "\n",
    "        \n",
    "\n"
   ]
  },
  {
   "cell_type": "markdown",
   "metadata": {},
   "source": [
    "# Challenge 3 - Regular Expressions\n",
    "\n",
    "Sometimes, we would like to perform more complex manipulations of our string. This is where regular expressions come in handy. In the cell below, return all characters that are upper case from the string specified below."
   ]
  },
  {
   "cell_type": "code",
   "execution_count": 2,
   "metadata": {},
   "outputs": [
    {
     "name": "stdout",
     "output_type": "stream",
     "text": [
      "Upper characters: \n",
      "T        \n",
      "P       \n"
     ]
    }
   ],
   "source": [
    "poem = \"\"\"The apparition of these faces in the crowd;\n",
    "Petals on a wet, black bough.\"\"\"\n",
    "\n",
    "# Your code here:\n",
    "poem = poem.replace(\";\",\" \" )\n",
    "poem = poem.replace(\".\",\" \")\n",
    "poem = poem.replace(\":\",\" \" )\n",
    "poem = poem.replace(\",\",\" \" )\n",
    "\n",
    "\n",
    "upper = ''\n",
    "for x in poem:\n",
    "    if x == x.upper():\n",
    "        upper += x\n",
    "print(\"Upper characters: \")\n",
    "print(upper)\n",
    "        \n"
   ]
  },
  {
   "cell_type": "markdown",
   "metadata": {},
   "source": [
    "In the cell below, filter the list provided and return all elements of the list containing a number. To filter the list, use the `re.search` function. Check if the function does not return `None`. You can read more about the `re.search` function [here](https://docs.python.org/3/library/re.html)."
   ]
  },
  {
   "cell_type": "code",
   "execution_count": 28,
   "metadata": {},
   "outputs": [
    {
     "name": "stdout",
     "output_type": "stream",
     "text": [
      "123abc\n",
      "La cadena 123abc contiene numeros\n",
      "abc123\n",
      "La cadena abc123 contiene numeros\n",
      "JohnSmith1\n",
      "La cadena JohnSmith1 contiene numeros\n",
      "ABBY4\n",
      "La cadena ABBY4 contiene numeros\n",
      "JANE\n"
     ]
    }
   ],
   "source": [
    "import re\n",
    "\n",
    "data = ['123abc', 'abc123', 'JohnSmith1', 'ABBY4', 'JANE']\n",
    "# Your code here:\n",
    "\n",
    "for x in data:\n",
    "    print(x)\n",
    "    if re.search('\\d', x):\n",
    "        print(\"La cadena \" + x + \" contiene numeros\")\n",
    "        \n"
   ]
  },
  {
   "cell_type": "markdown",
   "metadata": {},
   "source": [
    "# Bonus Challenge - Regular Expressions II\n",
    "\n",
    "In the cell below, filter the list provided to keep only strings containing at least one digit and at least one lower case letter. As in the previous question, use the `re.search` function and check that the result is not `None`.\n",
    "\n",
    "To read more about regular expressions, check out [this link](https://developers.google.com/edu/python/regular-expressions)."
   ]
  },
  {
   "cell_type": "code",
   "execution_count": null,
   "metadata": {},
   "outputs": [],
   "source": [
    "data = ['123abc', 'abc123', 'JohnSmith1', 'ABBY4', 'JANE']\n",
    "# Your code here:\n"
   ]
  }
 ],
 "metadata": {
  "kernelspec": {
   "display_name": "Python 3 (ipykernel)",
   "language": "python",
   "name": "python3"
  },
  "language_info": {
   "codemirror_mode": {
    "name": "ipython",
    "version": 3
   },
   "file_extension": ".py",
   "mimetype": "text/x-python",
   "name": "python",
   "nbconvert_exporter": "python",
   "pygments_lexer": "ipython3",
   "version": "3.10.14"
  }
 },
 "nbformat": 4,
 "nbformat_minor": 4
}
