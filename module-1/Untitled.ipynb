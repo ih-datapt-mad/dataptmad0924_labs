{
 "cells": [
  {
   "cell_type": "code",
   "execution_count": null,
   "id": "1d7ad6c9-4aab-4f70-ad53-60457084fe71",
   "metadata": {},
   "outputs": [],
   "source": [
    "nombre = input(\"Como te llamas\")\n",
    "print(\"Hola\" + nombre)"
   ]
  },
  {
   "cell_type": "code",
   "execution_count": null,
   "id": "15fd95de-33bf-40e5-a125-5d291834e973",
   "metadata": {},
   "outputs": [],
   "source": [
    "tup = (1,3,4)\n",
    "tup = (4,5,6)\n",
    "tup"
   ]
  },
  {
   "cell_type": "code",
   "execution_count": null,
   "id": "3691b6ac-c1fe-4384-aab3-9ca7ae324f0e",
   "metadata": {},
   "outputs": [],
   "source": []
  }
 ],
 "metadata": {
  "kernelspec": {
   "display_name": "Python 3 (ipykernel)",
   "language": "python",
   "name": "python3"
  },
  "language_info": {
   "codemirror_mode": {
    "name": "ipython",
    "version": 3
   },
   "file_extension": ".py",
   "mimetype": "text/x-python",
   "name": "python",
   "nbconvert_exporter": "python",
   "pygments_lexer": "ipython3",
   "version": "3.10.14"
  }
 },
 "nbformat": 4,
 "nbformat_minor": 5
}
